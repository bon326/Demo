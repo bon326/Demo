{
 "cells": [
  {
   "cell_type": "markdown",
   "metadata": {},
   "source": [
    "# <CENTER>CHECK PCA TABLES<CENTER>"
   ]
  },
  {
   "cell_type": "markdown",
   "metadata": {},
   "source": [
    "This script is checking PCA tables which are used for creating Power BI reports:\n",
    "- DW.CONTACT_CAMPAIGN\n",
    "- CS.NON_CARD_CONTACT\n",
    "\n",
    "\n",
    "- DWS.AC_CAMPAIGN\n",
    "- DWS.AC_SEND\n",
    "- DWS.AC_OPEN\n",
    "- DWS.AC_CLICK\n",
    "- DWS.AC_UNSUBSCRIBE\n",
    "\n",
    "\n",
    "- CS.PCA_CAMPAIGN_TRACKER\n",
    "- CS.PCA_CAMPAIGN_ID_COUNTRY \n",
    "- CS.PCA_CAMPAIGN_LANDING\n",
    "- CS.PCA_CAMPAIGN_DETAILS\n",
    "- CS.PCA_CAMP_ID\n",
    "- CS.PCA_CHEETAH_CH_MATCH\n",
    "- CS.PCA_TRANSACTION_AGG\n",
    "- CS.PCA_EMAIL_ENGAGEMENT\n",
    "- CS.PCA_EMAIL_RESPONSE_AGG\n",
    "- CS.PCA_CUST_SUMMARY\n",
    "\n",
    "\n",
    "- CS.PCA_CAMPAIGN_BRAND **\n",
    "- CS.PCA_BRAND_TRANSACTIONS\n",
    "- CS.PCA_BRAND_TRANSACTIONS_SEGMENTATION **\n",
    "- CS.PCA_BRAND_OR_CATEGORY_PRODUCT_TABLE_MATCHED\n",
    "- CS.PCA_FEATURED_PRODUCT_TABLE_MATCHED\n",
    "\n",
    "\n",
    "- CS.PCA_EMAIL_CH_NON_CARD_ONLY\n",
    "- CS.PCA_TRANSACTION_AGG_NON_CARD **\n",
    "\n",
    "\n",
    "- CS.PCA_OFFER_PERFORMANCE_FINAL_SEGMENTATION **\n",
    "- CS.PCA_FINAL_TABLE_SEGMENTATION **\n",
    "- CS.PCA_FINAL_TABLE\n",
    "\n",
    "- CS.PCA_DM_FINAL_TABLE_SEGMENTATION (for DM)\n",
    "- CS.PCA_DM_FINAL_TABLE (for DM)\n",
    "\n",
    "Note: you could delete tables marked with ** if you were using Jo's troubleshooting script. Data need to be deleted in case there was a change in the Nampara script (or if PCA info hasn't been loaded correctly), so the change could take effect on data populating Nampara tables.\n",
    "\n",
    "Note 2: CS.PCA_CAMPAIGN_ID_COUNTRY only picks up campaigns sent in the last 30 days. As a rule you probably don’t want to delete from CS.PCA_CAMPAIGN_ID_COUNTRY unless you manually insert it back in after deleting or the campaign was sent in the last 30 days.\n",
    "\n",
    "Note 3: PCA tables are UPDATED after running the tracker script and the Nampara script, which are run automatically every Tuesday and Friday (at 3pm and 4pm respectively), IF THE CAMPAIGN IS LIVE (i.e. if it's analysis period end date is within last 7 days). Then, updated Power BI results are available following the manual refresh of Power BI reports, which is on Wednesdays and Mondays at 9am.\n",
    "\n",
    "The checks below are useful if Power BI results are missing or look incorrect."
   ]
  },
  {
   "cell_type": "markdown",
   "metadata": {},
   "source": [
    "## IMPORT AND CONNECT"
   ]
  },
  {
   "cell_type": "code",
   "execution_count": 1,
   "metadata": {},
   "outputs": [],
   "source": [
    "%load_ext sql\n",
    "\n",
    "import ibm_db_sa\n",
    "import pandas as pd\n",
    "\n",
    "# Return Pandas DataFrames instead of regular result sets\n",
    "%config SqlMagic.autopandas=True\n",
    "\n",
    "# Display all rows/columns of Pandas DataFrame\n",
    "#pd.set_option('display.max_rows', None)\n",
    "pd.set_option('display.max_columns', None)"
   ]
  },
  {
   "cell_type": "code",
   "execution_count": 2,
   "metadata": {},
   "outputs": [
    {
     "data": {
      "text/plain": [
       "'Connected: libonnie@BCUDB'"
      ]
     },
     "execution_count": 2,
     "metadata": {},
     "output_type": "execute_result"
    }
   ],
   "source": [
    "### Read your credentials from .env file\n",
    "import os\n",
    "from dotenv import load_dotenv\n",
    "load_dotenv(r'C:\\Users\\bonnie.li\\Desktop\\Credentials.env')\n",
    "username = os.getenv('ABACUS_USERNAME') \n",
    "password = os.getenv('ABACUS_PASSWORD')\n",
    "\n",
    "credentials = f'{username}:{password}'\n",
    "%sql ibm_db_sa://$credentials@abacusproddbcluster:50000/BCUDB\n",
    "#sql ibm_db_sa://username:password@hostname:port/database_name"
   ]
  },
  {
   "cell_type": "markdown",
   "metadata": {},
   "source": [
    "## ENTER CAMPAIGN INFORMATION"
   ]
  },
  {
   "cell_type": "code",
   "execution_count": 3,
   "metadata": {},
   "outputs": [],
   "source": [
    "campaign_code = 'C000020610'"
   ]
  },
  {
   "cell_type": "markdown",
   "metadata": {},
   "source": [
    "## CHECK CONTACT HISTORY - DONOTDELETE"
   ]
  },
  {
   "cell_type": "markdown",
   "metadata": {},
   "source": [
    "- Card"
   ]
  },
  {
   "cell_type": "code",
   "execution_count": 4,
   "metadata": {},
   "outputs": [
    {
     "name": "stdout",
     "output_type": "stream",
     "text": [
      " * ibm_db_sa://libonnie:***@abacusproddbcluster:50000/BCUDB\n",
      "Done.\n"
     ]
    },
    {
     "data": {
      "text/html": [
       "<div>\n",
       "<style scoped>\n",
       "    .dataframe tbody tr th:only-of-type {\n",
       "        vertical-align: middle;\n",
       "    }\n",
       "\n",
       "    .dataframe tbody tr th {\n",
       "        vertical-align: top;\n",
       "    }\n",
       "\n",
       "    .dataframe thead th {\n",
       "        text-align: right;\n",
       "    }\n",
       "</style>\n",
       "<table border=\"1\" class=\"dataframe\">\n",
       "  <thead>\n",
       "    <tr style=\"text-align: right;\">\n",
       "      <th></th>\n",
       "      <th>account_number</th>\n",
       "      <th>cell_id</th>\n",
       "      <th>cell_code</th>\n",
       "      <th>package_id</th>\n",
       "      <th>contact_date_time</th>\n",
       "      <th>contact_date</th>\n",
       "      <th>contact_status_name</th>\n",
       "      <th>campaign_code</th>\n",
       "      <th>treatment_code</th>\n",
       "      <th>control_treatment_flag</th>\n",
       "      <th>offer_code</th>\n",
       "      <th>segment_name</th>\n",
       "      <th>spend_band</th>\n",
       "      <th>child_number</th>\n",
       "      <th>child_dob_baby_due</th>\n",
       "      <th>dob_due_date_flag</th>\n",
       "      <th>welcome_pack_no</th>\n",
       "      <th>stage_pack_no</th>\n",
       "      <th>exception_reason_code</th>\n",
       "    </tr>\n",
       "  </thead>\n",
       "  <tbody>\n",
       "    <tr>\n",
       "      <th>0</th>\n",
       "      <td>1013775936</td>\n",
       "      <td>1640417</td>\n",
       "      <td>A001640417</td>\n",
       "      <td>205589</td>\n",
       "      <td>2021-09-29 00:09:01</td>\n",
       "      <td>2021-09-29</td>\n",
       "      <td>Delivered</td>\n",
       "      <td>C000012419</td>\n",
       "      <td>102798694</td>\n",
       "      <td>0</td>\n",
       "      <td>000072024</td>\n",
       "      <td>None</td>\n",
       "      <td>None</td>\n",
       "      <td>None</td>\n",
       "      <td>None</td>\n",
       "      <td>None</td>\n",
       "      <td>None</td>\n",
       "      <td>None</td>\n",
       "      <td>None</td>\n",
       "    </tr>\n",
       "  </tbody>\n",
       "</table>\n",
       "</div>"
      ],
      "text/plain": [
       "   account_number  cell_id   cell_code  package_id   contact_date_time  \\\n",
       "0      1013775936  1640417  A001640417      205589 2021-09-29 00:09:01   \n",
       "\n",
       "  contact_date contact_status_name campaign_code treatment_code  \\\n",
       "0   2021-09-29           Delivered    C000012419      102798694   \n",
       "\n",
       "   control_treatment_flag offer_code segment_name spend_band child_number  \\\n",
       "0                       0  000072024         None       None         None   \n",
       "\n",
       "  child_dob_baby_due dob_due_date_flag welcome_pack_no stage_pack_no  \\\n",
       "0               None              None            None          None   \n",
       "\n",
       "  exception_reason_code  \n",
       "0                  None  "
      ]
     },
     "execution_count": 4,
     "metadata": {},
     "output_type": "execute_result"
    }
   ],
   "source": [
    "%sql SELECT * FROM DW.CONTACT limit 1"
   ]
  },
  {
   "cell_type": "code",
   "execution_count": 5,
   "metadata": {},
   "outputs": [
    {
     "name": "stdout",
     "output_type": "stream",
     "text": [
      " * ibm_db_sa://libonnie:***@abacusproddbcluster:50000/BCUDB\n",
      "Done.\n",
      "Returning data to local variable date\n"
     ]
    }
   ],
   "source": [
    "%%sql date <<\n",
    "    SELECT CONTACT_DATE, CONTACT_DATE_TIME, CONTROL_TREATMENT_FLAG, COUNT(*) AS mailed_control \n",
    "    FROM DW.CONTACT\n",
    "    WHERE CAMPAIGN_CODE = :campaign_code \n",
    "    GROUP BY CONTACT_DATE, CONTACT_DATE_TIME, CONTROL_TREATMENT_FLAG\n",
    "    ORDER BY CONTACT_DATE_TIME DESC"
   ]
  },
  {
   "cell_type": "code",
   "execution_count": 6,
   "metadata": {},
   "outputs": [
    {
     "data": {
      "text/html": [
       "<div>\n",
       "<style scoped>\n",
       "    .dataframe tbody tr th:only-of-type {\n",
       "        vertical-align: middle;\n",
       "    }\n",
       "\n",
       "    .dataframe tbody tr th {\n",
       "        vertical-align: top;\n",
       "    }\n",
       "\n",
       "    .dataframe thead th {\n",
       "        text-align: right;\n",
       "    }\n",
       "</style>\n",
       "<table border=\"1\" class=\"dataframe\">\n",
       "  <thead>\n",
       "    <tr style=\"text-align: right;\">\n",
       "      <th></th>\n",
       "      <th>contact_date</th>\n",
       "      <th>contact_date_time</th>\n",
       "      <th>control_treatment_flag</th>\n",
       "      <th>mailed_control</th>\n",
       "    </tr>\n",
       "  </thead>\n",
       "  <tbody>\n",
       "    <tr>\n",
       "      <th>0</th>\n",
       "      <td>2022-08-08</td>\n",
       "      <td>2022-08-08 10:48:45</td>\n",
       "      <td>0</td>\n",
       "      <td>314745</td>\n",
       "    </tr>\n",
       "    <tr>\n",
       "      <th>1</th>\n",
       "      <td>2022-08-08</td>\n",
       "      <td>2022-08-08 10:48:45</td>\n",
       "      <td>1</td>\n",
       "      <td>31470</td>\n",
       "    </tr>\n",
       "    <tr>\n",
       "      <th>2</th>\n",
       "      <td>2022-07-21</td>\n",
       "      <td>2022-07-21 14:43:24</td>\n",
       "      <td>0</td>\n",
       "      <td>9417</td>\n",
       "    </tr>\n",
       "    <tr>\n",
       "      <th>3</th>\n",
       "      <td>2022-07-21</td>\n",
       "      <td>2022-07-21 14:43:24</td>\n",
       "      <td>1</td>\n",
       "      <td>941</td>\n",
       "    </tr>\n",
       "  </tbody>\n",
       "</table>\n",
       "</div>"
      ],
      "text/plain": [
       "  contact_date   contact_date_time  control_treatment_flag  mailed_control\n",
       "0   2022-08-08 2022-08-08 10:48:45                       0          314745\n",
       "1   2022-08-08 2022-08-08 10:48:45                       1           31470\n",
       "2   2022-07-21 2022-07-21 14:43:24                       0            9417\n",
       "3   2022-07-21 2022-07-21 14:43:24                       1             941"
      ]
     },
     "execution_count": 6,
     "metadata": {},
     "output_type": "execute_result"
    }
   ],
   "source": [
    "date"
   ]
  },
  {
   "cell_type": "code",
   "execution_count": 7,
   "metadata": {},
   "outputs": [
    {
     "data": {
      "text/plain": [
       "'2022-08-08'"
      ]
     },
     "execution_count": 7,
     "metadata": {},
     "output_type": "execute_result"
    }
   ],
   "source": [
    "contact_date = date['contact_date'][0].strftime('%Y-%m-%d')\n",
    "contact_date"
   ]
  },
  {
   "cell_type": "markdown",
   "metadata": {},
   "source": [
    "- Non-card"
   ]
  },
  {
   "cell_type": "code",
   "execution_count": null,
   "metadata": {},
   "outputs": [],
   "source": [
    "%%sql non_card_date <<\n",
    "    SELECT CONTACT_DATE, COUNT(*) AS mailed_control \n",
    "    FROM CS.NON_CARD_CONTACT\n",
    "    WHERE CAMPAIGN_CODE = :campaign_code \n",
    "    GROUP BY CONTACT_DATE\n",
    "    ORDER BY CONTACT_DATE"
   ]
  },
  {
   "cell_type": "code",
   "execution_count": null,
   "metadata": {},
   "outputs": [],
   "source": [
    "non_card_date"
   ]
  },
  {
   "cell_type": "markdown",
   "metadata": {},
   "source": [
    "## CHECK CELL CODES AND CELL NAMES"
   ]
  },
  {
   "cell_type": "code",
   "execution_count": null,
   "metadata": {},
   "outputs": [],
   "source": [
    "%%sql cells <<\n",
    "    SELECT CELL_CODE, CELL_NAME\n",
    "    FROM DM.CELL\n",
    "    WHERE campaign_code = :campaign_code\n",
    "    GROUP BY CELL_CODE, CELL_NAME\n",
    "    ORDER BY CELL_CODE;"
   ]
  },
  {
   "cell_type": "code",
   "execution_count": null,
   "metadata": {},
   "outputs": [],
   "source": [
    "cells"
   ]
  },
  {
   "cell_type": "markdown",
   "metadata": {},
   "source": [
    "- Card"
   ]
  },
  {
   "cell_type": "code",
   "execution_count": null,
   "metadata": {},
   "outputs": [],
   "source": [
    "cell_codes = %sql SELECT CELL_CODE, COUNT(*) AS COUNT FROM DW.CONTACT \\\n",
    "                  WHERE CAMPAIGN_CODE = :campaign_code GROUP BY CELL_CODE\n",
    "try:\n",
    "    cell_codes_cellnames=cell_codes.set_index('cell_code').join(cells.set_index('cell_code'))\n",
    "    display(cell_codes_cellnames)\n",
    "except:\n",
    "    pass"
   ]
  },
  {
   "cell_type": "markdown",
   "metadata": {},
   "source": [
    "- NonCard"
   ]
  },
  {
   "cell_type": "code",
   "execution_count": null,
   "metadata": {},
   "outputs": [],
   "source": [
    "cell_codes = %sql SELECT CELL_CODE, COUNT(*) AS COUNT FROM CS.NON_CARD_CONTACT \\\n",
    "                  WHERE CAMPAIGN_CODE = :campaign_code GROUP BY CELL_CODE\n",
    "try:\n",
    "    cell_codes_cellnames=cell_codes.set_index('cell_code').join(cells.set_index('cell_code'))\n",
    "    display(cell_codes_cellnames)\n",
    "except:\n",
    "    pass"
   ]
  },
  {
   "cell_type": "markdown",
   "metadata": {},
   "source": [
    "## CHECK FEATURED PRODUCT AND BRAND/CATEGORY TABLES - DONOTDELETE"
   ]
  },
  {
   "cell_type": "code",
   "execution_count": null,
   "metadata": {},
   "outputs": [],
   "source": [
    "%sql SELECT COUNT(*) FROM CS.BRANDS_PCA_BRAND_OR_CATEGORY_TABLE_DONOTDELETE WHERE CAMPAIGN_CODE = :campaign_code"
   ]
  },
  {
   "cell_type": "code",
   "execution_count": null,
   "metadata": {},
   "outputs": [],
   "source": [
    "%sql SELECT UNIQUE(CONTACT_DATE) FROM CS.BRANDS_PCA_BRAND_OR_CATEGORY_TABLE_DONOTDELETE WHERE CAMPAIGN_CODE = :campaign_code"
   ]
  },
  {
   "cell_type": "code",
   "execution_count": null,
   "metadata": {},
   "outputs": [],
   "source": [
    "%sql SELECT COUNT(*) FROM CS.BRANDS_PCA_FEATURED_PRODUCT_TABLE_DONOTDELETE WHERE CAMPAIGN_CODE = :campaign_code"
   ]
  },
  {
   "cell_type": "code",
   "execution_count": null,
   "metadata": {},
   "outputs": [],
   "source": [
    "%sql SELECT UNIQUE(CONTACT_DATE) FROM CS.BRANDS_PCA_FEATURED_PRODUCT_TABLE_DONOTDELETE WHERE CAMPAIGN_CODE = :campaign_code"
   ]
  },
  {
   "cell_type": "markdown",
   "metadata": {},
   "source": [
    "## CHECK ADOBE TABLES - DONOTDELETE"
   ]
  },
  {
   "cell_type": "code",
   "execution_count": null,
   "metadata": {},
   "outputs": [],
   "source": [
    "campaign = %sql SELECT * FROM DWS.AC_CAMPAIGN WHERE UNICA_CAMPAIGN_CODE = :campaign_code \n",
    "print('DWS.AC_CAMPAIGN')\n",
    "display(campaign)\n",
    "\n",
    "send = %sql SELECT * FROM DWS.AC_SEND WHERE UNICA_CAMPAIGN_CODE = :campaign_code \n",
    "print('DWS.AC_SEND')\n",
    "display(send)\n",
    "\n",
    "open = %sql SELECT * FROM DWS.AC_OPEN WHERE UNICA_CAMPAIGN_CODE = :campaign_code \n",
    "print('DWS.AC_OPEN')\n",
    "display(open)\n",
    "\n",
    "click = %sql SELECT * FROM DWS.AC_CLICK WHERE UNICA_CAMPAIGN_CODE = :campaign_code \n",
    "print('DWS.AC_CLICK')\n",
    "display(click)\n",
    "\n",
    "unsubscribe = %sql SELECT * FROM DWS.AC_UNSUBSCRIBE WHERE UNICA_CAMPAIGN_CODE = :campaign_code\n",
    "print('DWS.AC_UNSUBSCRIBE')\n",
    "display(unsubscribe)"
   ]
  },
  {
   "cell_type": "markdown",
   "metadata": {},
   "source": [
    "## CHECK PCA TABLES - can DELETE FROM"
   ]
  },
  {
   "cell_type": "code",
   "execution_count": null,
   "metadata": {},
   "outputs": [],
   "source": [
    "tracker = %sql SELECT * FROM CS.PCA_CAMPAIGN_TRACKER WHERE CAMPAIGN_CODE = :campaign_code\n",
    "print('CS.PCA_CAMPAIGN_TRACKER')\n",
    "display(tracker)\n",
    "\n",
    "country_id = %sql SELECT * FROM CS.PCA_CAMPAIGN_ID_COUNTRY WHERE CAMPAIGN_CODE = :campaign_code\n",
    "print('CS.PCA_CAMPAIGN_ID_COUNTRY')\n",
    "display(country_id)\n",
    "\n",
    "landing = %sql SELECT * FROM CS.PCA_CAMPAIGN_LANDING WHERE CAMPAIGN_CODE = :campaign_code\n",
    "print('CS.PCA_CAMPAIGN_LANDING')\n",
    "display(landing)\n",
    "    \n",
    "details = %sql SELECT * FROM CS.PCA_CAMPAIGN_DETAILS WHERE CAMPAIGN_CODE = :campaign_code\n",
    "print('CS.PCA_CAMPAIGN_DETAILS')\n",
    "display(details)\n",
    "\n",
    "camp_id = %sql SELECT * FROM CS.PCA_CAMP_ID WHERE CAMPAIGN_CODE = :campaign_code\n",
    "print('CS.PCA_CAMP_ID')\n",
    "display(camp_id)\n",
    "\n",
    "CH_match = %sql SELECT * FROM CS.PCA_CHEETAH_CH_MATCH WHERE CAMPAIGN_CODE = :campaign_code\n",
    "print('CS.PCA_CHEETAH_CH_MATCH')\n",
    "display(CH_match)\n",
    "\n",
    "trans_agg = %sql SELECT * FROM CS.PCA_TRANSACTION_AGG WHERE CAMPAIGN_CODE = :campaign_code\n",
    "print('CS.PCA_TRANSACTION_AGG')\n",
    "display(trans_agg)\n",
    "\n",
    "email_eng = %sql SELECT * FROM CS.PCA_EMAIL_ENGAGEMENT WHERE CAMPAIGN_CODE = :campaign_code\n",
    "print('CS.PCA_EMAIL_ENGAGEMENT')\n",
    "display(email_eng)\n",
    "            \n",
    "email_response = %sql SELECT * FROM CS.PCA_EMAIL_RESPONSE_AGG WHERE CAMPAIGN_CODE = :campaign_code\n",
    "print('CS.PCA_EMAIL_RESPONSE_AGG')\n",
    "display(email_response)\n",
    "\n",
    "cust_summary = %sql SELECT * FROM CS.PCA_CUST_SUMMARY WHERE CAMPAIGN_CODE = :campaign_code\n",
    "print('CS.PCA_CUST_SUMMARY')\n",
    "display(cust_summary)"
   ]
  },
  {
   "cell_type": "markdown",
   "metadata": {},
   "source": [
    "### BRAND AND FP"
   ]
  },
  {
   "cell_type": "code",
   "execution_count": null,
   "metadata": {},
   "outputs": [],
   "source": [
    "camp_brand = %sql SELECT * FROM CS.PCA_CAMPAIGN_BRAND WHERE CAMPAIGN_CODE = :campaign_code\n",
    "print('CS.PCA_CAMPAIGN_BRAND')\n",
    "display(camp_brand)\n",
    "    \n",
    "brand_trans = %sql SELECT * FROM CS.PCA_BRAND_TRANSACTIONS WHERE CAMPAIGN_CODE = :campaign_code\n",
    "print('CS.PCA_BRAND_TRANSACTIONS')\n",
    "display(brand_trans)\n",
    "    \n",
    "brand_trans_segment = %sql SELECT * FROM CS.PCA_BRAND_TRANSACTIONS_SEGMENTATION WHERE CAMPAIGN_CODE = :campaign_code\n",
    "print('CS.PCA_BRAND_TRANSACTIONS_SEGMENTATION')\n",
    "display(brand_trans_segment)\n",
    "    \n",
    "bc_product_match = %sql SELECT * FROM CS.PCA_BRAND_OR_CATEGORY_PRODUCT_TABLE_MATCHED WHERE CAMPAIGN_CODE = :campaign_code\n",
    "print('CS.PCA_BRAND_OR_CATEGORY_PRODUCT_TABLE_MATCHED')\n",
    "display(bc_product_match)\n",
    "    \n",
    "fp_matched = %sql SELECT * FROM CS.PCA_FEATURED_PRODUCT_TABLE_MATCHED WHERE CAMPAIGN_CODE = :campaign_code\n",
    "print('CS.PCA_FEATURED_PRODUCT_TABLE_MATCHED')\n",
    "display(fp_matched) "
   ]
  },
  {
   "cell_type": "markdown",
   "metadata": {},
   "source": [
    "### NON-CARD TABLES"
   ]
  },
  {
   "cell_type": "code",
   "execution_count": null,
   "metadata": {},
   "outputs": [],
   "source": [
    "email_ch_non_card = %sql SELECT * FROM CS.PCA_EMAIL_CH_NON_CARD_ONLY WHERE CAMPAIGN_CODE = :campaign_code\n",
    "print('CS.PCA_EMAIL_CH_NON_CARD_ONLY')\n",
    "display(email_ch_non_card)\n",
    "\n",
    "trans_non_card = %sql SELECT * FROM CS.PCA_TRANSACTION_AGG_NON_CARD WHERE CAMPAIGN_CODE = :campaign_code\n",
    "print('CS.PCA_TRANSACTION_AGG_NON_CARD')\n",
    "display(trans_non_card)"
   ]
  },
  {
   "cell_type": "markdown",
   "metadata": {},
   "source": [
    "### FINAL PCA TABLES"
   ]
  },
  {
   "cell_type": "code",
   "execution_count": null,
   "metadata": {},
   "outputs": [],
   "source": [
    "offer_final_segment = %sql SELECT * FROM CS.PCA_OFFER_PERFORMANCE_FINAL_SEGMENTATION WHERE CAMPAIGN_CODE = :campaign_code\n",
    "print('CS.PCA_OFFER_PERFORMANCE_FINAL_SEGMENTATION')\n",
    "display(offer_final_segment)\n",
    "\n",
    "final_segment = %sql SELECT * FROM CS.PCA_FINAL_TABLE_SEGMENTATION WHERE CAMPAIGN_CODE = :campaign_code\n",
    "print('CS.PCA_FINAL_TABLE_SEGMENTATION')\n",
    "display(final_segment)\n",
    "\n",
    "final_segment_DM = %sql SELECT * FROM CS.PCA_DM_FINAL_TABLE_SEGMENTATION WHERE CAMPAIGN_CODE = :campaign_code\n",
    "print('CS.PCA_DM_FINAL_TABLE_SEGMENTATION')\n",
    "display(final_segment_DM)\n",
    "\n",
    "final = %sql SELECT * FROM CS.PCA_FINAL_TABLE WHERE CAMPAIGN_CODE = :campaign_code\n",
    "print('CS.PCA_FINAL_TABLE')\n",
    "display(final)\n",
    "\n",
    "final_DM = %sql SELECT * FROM CS.PCA_DM_FINAL_TABLE WHERE CAMPAIGN_CODE = :campaign_code\n",
    "print('CS.PCA_DM_FINAL_TABLE')\n",
    "display(final_DM)"
   ]
  },
  {
   "cell_type": "code",
   "execution_count": null,
   "metadata": {},
   "outputs": [],
   "source": [
    "%%sql\n",
    "    SELECT\n",
    "    CAMPAIGN_CODE,\n",
    "    CAMP_ID,\n",
    "    CH_SEND_DATE,\n",
    "    SUM(MAILED) AS MAILED,\n",
    "    SUM(CONTROL) AS CONTROL,\n",
    "    SUM(MAILED_SALES) AS MAILED_SALES,\n",
    "    SUM(MAILED_SALES_FP) AS MAILED_SALES_FP,\n",
    "    SUM(MAILED_SALES_BOC) AS MAILED_SALES_BOC\n",
    "    FROM\n",
    "    CS.PCA_FINAL_TABLE\n",
    "    WHERE\n",
    "    CAMPAIGN_CODE = :campaign_code\n",
    "    GROUP BY\n",
    "    CAMPAIGN_CODE,\n",
    "    CAMP_ID,\n",
    "    CH_SEND_DATE\n",
    "    ORDER BY\n",
    "    3 DESC"
   ]
  },
  {
   "cell_type": "code",
   "execution_count": null,
   "metadata": {},
   "outputs": [],
   "source": [
    "%%sql\n",
    "    SELECT\n",
    "    CAMPAIGN_CODE,\n",
    "    LAND_DATE,\n",
    "    SUM(MAILED) AS MAILED,\n",
    "    SUM(CONTROL) AS CONTROL,\n",
    "    SUM(MAILED_SALES) AS MAILED_SALES,\n",
    "    SUM(MAILED_SALES_FP) AS MAILED_SALES_FP,\n",
    "    SUM(MAILED_SALES_BOC) AS MAILED_SALES_BOC\n",
    "    FROM\n",
    "    CS.PCA_DM_FINAL_TABLE\n",
    "    WHERE\n",
    "    CAMPAIGN_CODE = :campaign_code\n",
    "    GROUP BY\n",
    "    CAMPAIGN_CODE,\n",
    "    LAND_DATE\n",
    "    ORDER BY\n",
    "    3 DESC"
   ]
  },
  {
   "cell_type": "markdown",
   "metadata": {},
   "source": [
    "### EXTRA CHECK - loaded PCA info"
   ]
  },
  {
   "cell_type": "markdown",
   "metadata": {},
   "source": [
    "#### FIND PRODUCTS "
   ]
  },
  {
   "cell_type": "code",
   "execution_count": null,
   "metadata": {},
   "outputs": [],
   "source": [
    "%%sql PRODUCTS <<\n",
    "    SELECT * FROM CS.BRANDS_PCA_BRAND_OR_CATEGORY_TABLE_DONOTDELETE\n",
    "    WHERE CAMPAIGN_CODE = :campaign_code\n",
    "    AND CONTACT_DATE = :contact_date"
   ]
  },
  {
   "cell_type": "code",
   "execution_count": null,
   "metadata": {},
   "outputs": [],
   "source": [
    "PRODUCTS"
   ]
  },
  {
   "cell_type": "code",
   "execution_count": null,
   "metadata": {},
   "outputs": [],
   "source": [
    "item_codes = PRODUCTS['item_code'].unique().tolist()\n",
    "print('There are',len(item_codes),'brand/category products associated with this campaign.')"
   ]
  },
  {
   "cell_type": "code",
   "execution_count": null,
   "metadata": {},
   "outputs": [],
   "source": [
    "example_item_code = item_codes[0]\n",
    "example_item_code "
   ]
  },
  {
   "cell_type": "markdown",
   "metadata": {},
   "source": [
    "#### FIND brand_code and item_hierarchy4_number associated to PCA tables"
   ]
  },
  {
   "cell_type": "code",
   "execution_count": null,
   "metadata": {},
   "outputs": [],
   "source": [
    "BC_codes_df = %sql SELECT BRAND_CODE, ITEM_CODE, ITEM_DESCRIPTION, ITEM_HIERARCHY4_NUMBER FROM DW.MDM_ITEM WHERE ITEM_CODE = :example_item_code\n",
    "    \n",
    "PCA_brand_code = BC_codes_df['brand_code'][0]\n",
    "PCA_item_hierarchy4_number = BC_codes_df['item_hierarchy4_number'][0]\n",
    "\n",
    "print('brand_code associated to products loaded to PCA table is:',PCA_brand_code)\n",
    "print('item_hierarchy4_number associated to products loaded to PCA table is:',PCA_item_hierarchy4_number)"
   ]
  },
  {
   "cell_type": "markdown",
   "metadata": {},
   "source": [
    "#### FIND fp_codes "
   ]
  },
  {
   "cell_type": "code",
   "execution_count": null,
   "metadata": {},
   "outputs": [],
   "source": [
    "%%sql FP_df <<\n",
    "    SELECT * FROM CS.BRANDS_PCA_FEATURED_PRODUCT_TABLE_DONOTDELETE\n",
    "    WHERE CAMPAIGN_CODE = :campaign_code\n",
    "    AND CONTACT_DATE = :contact_date"
   ]
  },
  {
   "cell_type": "code",
   "execution_count": null,
   "metadata": {},
   "outputs": [],
   "source": [
    "FP_df"
   ]
  },
  {
   "cell_type": "code",
   "execution_count": null,
   "metadata": {},
   "outputs": [],
   "source": [
    "fp_codes = FP_df['item_code'].unique().tolist()\n",
    "print('There are',len(fp_codes),'item codes loaded to the PCA table.')"
   ]
  },
  {
   "cell_type": "markdown",
   "metadata": {},
   "source": [
    "#### CHECK FEATURED PRODUCTS ITEM CODES"
   ]
  },
  {
   "cell_type": "code",
   "execution_count": null,
   "metadata": {},
   "outputs": [],
   "source": [
    "if isinstance(fp_codes,int)==True:\n",
    "    fp_check=f'''SELECT ITEM_CODE, ITEM_DESCRIPTION \n",
    "            FROM DW.MDM_ITEM WHERE ITEM_CODE = {fp_codes}'''\n",
    "else:\n",
    "    fp_check='SELECT ITEM_CODE, ITEM_DESCRIPTION FROM DW.MDM_ITEM WHERE \\\n",
    "            ITEM_CODE IN (%s)'%','.join('%s'%x for x in fp_codes)\n",
    "    \n",
    "%sql $fp_check"
   ]
  }
 ],
 "metadata": {
  "kernelspec": {
   "display_name": "Python 3 (ipykernel)",
   "language": "python",
   "name": "python3"
  },
  "language_info": {
   "codemirror_mode": {
    "name": "ipython",
    "version": 3
   },
   "file_extension": ".py",
   "mimetype": "text/x-python",
   "name": "python",
   "nbconvert_exporter": "python",
   "pygments_lexer": "ipython3",
   "version": "3.9.7"
  }
 },
 "nbformat": 4,
 "nbformat_minor": 4
}
